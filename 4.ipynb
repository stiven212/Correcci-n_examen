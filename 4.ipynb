{
 "cells": [
  {
   "cell_type": "code",
   "execution_count": 1,
   "source": [
    "#importar librerias\r\n",
    "from facebook_scraper import get_posts\r\n",
    "import json\r\n",
    "import time\r\n",
    "from pymongo import MongoClient\r\n",
    "\r\n",
    "#Conectar con la instancia local de MongoDB\r\n",
    "db_client = MongoClient('mongodb://localhost:27017')\r\n",
    "#Seleccionar la base de datos creada\r\n",
    "my_db = db_client.examenCorreccion.facebook"
   ],
   "outputs": [
    {
     "output_type": "error",
     "ename": "NameError",
     "evalue": "name 'correccion' is not defined",
     "traceback": [
      "\u001b[1;31m---------------------------------------------------------------------------\u001b[0m",
      "\u001b[1;31mNameError\u001b[0m                                 Traceback (most recent call last)",
      "\u001b[1;32m<ipython-input-1-1991d0462cb0>\u001b[0m in \u001b[0;36m<module>\u001b[1;34m\u001b[0m\n\u001b[0;32m      8\u001b[0m \u001b[0mdb_client\u001b[0m \u001b[1;33m=\u001b[0m \u001b[0mMongoClient\u001b[0m\u001b[1;33m(\u001b[0m\u001b[1;34m'mongodb://localhost:27017'\u001b[0m\u001b[1;33m)\u001b[0m\u001b[1;33m\u001b[0m\u001b[1;33m\u001b[0m\u001b[0m\n\u001b[0;32m      9\u001b[0m \u001b[1;31m#Seleccionar la base de datos creada\u001b[0m\u001b[1;33m\u001b[0m\u001b[1;33m\u001b[0m\u001b[1;33m\u001b[0m\u001b[0m\n\u001b[1;32m---> 10\u001b[1;33m \u001b[0mmy_db\u001b[0m \u001b[1;33m=\u001b[0m \u001b[0mdb_client\u001b[0m\u001b[1;33m.\u001b[0m\u001b[0mexamen\u001b[0m\u001b[1;33m-\u001b[0m\u001b[0mcorreccion\u001b[0m\u001b[1;33m.\u001b[0m\u001b[0mfacebook\u001b[0m\u001b[1;33m\u001b[0m\u001b[1;33m\u001b[0m\u001b[0m\n\u001b[0m",
      "\u001b[1;31mNameError\u001b[0m: name 'correccion' is not defined"
     ]
    }
   ],
   "metadata": {}
  },
  {
   "cell_type": "code",
   "execution_count": 2,
   "source": [
    "i=1\r\n",
    "#extraer posts de página seleccionada\r\n",
    "for post in get_posts('Olympics', pages=100, extra_info=True):\r\n",
    "    print(i)\r\n",
    "    i=i+1\r\n",
    "    time.sleep(5)\r\n",
    "    \r\n",
    "    #Separar toda la información del post\r\n",
    "    id=post['post_id']\r\n",
    "    doc={}\r\n",
    "     \r\n",
    "    doc['id']=id\r\n",
    "    \r\n",
    "    mydate=post['time']\r\n",
    "    \r\n",
    "    try:\r\n",
    "        doc['text']=post['text']\r\n",
    "        doc['date']=mydate.timestamp()\r\n",
    "        doc['likes']=post['likes']\r\n",
    "        doc['comments']=post['comments']\r\n",
    "        doc['shares']=post['shares']\r\n",
    "        try:\r\n",
    "            doc['reactions']=post['reactions']\r\n",
    "        except:\r\n",
    "            doc['reactions']={}\r\n",
    "        doc['post_url']=post['post_url']\r\n",
    "        #Guardar la información en la base\r\n",
    "        my_db.insert_one(doc)\r\n",
    "        print(\"post saved\")\r\n",
    "\r\n",
    "    except Exception as e:    \r\n",
    "        print(\"post not saved:\" + str(e))"
   ],
   "outputs": [
    {
     "output_type": "stream",
     "name": "stderr",
     "text": [
      "C:\\Users\\MATEO\\AppData\\Roaming\\Python\\Python39\\site-packages\\facebook_scraper\\facebook_scraper.py:369: UserWarning: Locale detected as es_LA - for best results, set to en_US\n",
      "  warnings.warn(f\"Locale detected as {locale} - for best results, set to en_US\")\n"
     ]
    },
    {
     "output_type": "stream",
     "name": "stdout",
     "text": [
      "1\n",
      "post saved\n",
      "2\n",
      "post saved\n",
      "3\n",
      "post saved\n",
      "4\n",
      "post saved\n",
      "5\n",
      "post saved\n",
      "6\n",
      "post saved\n",
      "7\n",
      "post saved\n",
      "8\n",
      "post saved\n",
      "9\n",
      "post saved\n",
      "10\n",
      "post saved\n",
      "11\n",
      "post saved\n",
      "12\n",
      "post saved\n",
      "13\n",
      "post saved\n",
      "14\n"
     ]
    },
    {
     "output_type": "error",
     "ename": "KeyboardInterrupt",
     "evalue": "",
     "traceback": [
      "\u001b[1;31m---------------------------------------------------------------------------\u001b[0m",
      "\u001b[1;31mKeyboardInterrupt\u001b[0m                         Traceback (most recent call last)",
      "\u001b[1;32m<ipython-input-2-e216f6aa9afb>\u001b[0m in \u001b[0;36m<module>\u001b[1;34m\u001b[0m\n\u001b[0;32m      4\u001b[0m     \u001b[0mprint\u001b[0m\u001b[1;33m(\u001b[0m\u001b[0mi\u001b[0m\u001b[1;33m)\u001b[0m\u001b[1;33m\u001b[0m\u001b[1;33m\u001b[0m\u001b[0m\n\u001b[0;32m      5\u001b[0m     \u001b[0mi\u001b[0m\u001b[1;33m=\u001b[0m\u001b[0mi\u001b[0m\u001b[1;33m+\u001b[0m\u001b[1;36m1\u001b[0m\u001b[1;33m\u001b[0m\u001b[1;33m\u001b[0m\u001b[0m\n\u001b[1;32m----> 6\u001b[1;33m     \u001b[0mtime\u001b[0m\u001b[1;33m.\u001b[0m\u001b[0msleep\u001b[0m\u001b[1;33m(\u001b[0m\u001b[1;36m5\u001b[0m\u001b[1;33m)\u001b[0m\u001b[1;33m\u001b[0m\u001b[1;33m\u001b[0m\u001b[0m\n\u001b[0m\u001b[0;32m      7\u001b[0m \u001b[1;33m\u001b[0m\u001b[0m\n\u001b[0;32m      8\u001b[0m     \u001b[1;31m#Separar toda la información del post\u001b[0m\u001b[1;33m\u001b[0m\u001b[1;33m\u001b[0m\u001b[1;33m\u001b[0m\u001b[0m\n",
      "\u001b[1;31mKeyboardInterrupt\u001b[0m: "
     ]
    }
   ],
   "metadata": {}
  }
 ],
 "metadata": {
  "orig_nbformat": 4,
  "language_info": {
   "name": "python",
   "version": "3.9.5",
   "mimetype": "text/x-python",
   "codemirror_mode": {
    "name": "ipython",
    "version": 3
   },
   "pygments_lexer": "ipython3",
   "nbconvert_exporter": "python",
   "file_extension": ".py"
  },
  "kernelspec": {
   "name": "python3",
   "display_name": "Python 3.9.5 64-bit"
  },
  "interpreter": {
   "hash": "ac59ebe37160ed0dfa835113d9b8498d9f09ceb179beaac4002f036b9467c963"
  }
 },
 "nbformat": 4,
 "nbformat_minor": 2
}