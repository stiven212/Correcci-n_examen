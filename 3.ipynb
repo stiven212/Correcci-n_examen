{
 "cells": [
  {
   "cell_type": "code",
   "execution_count": 1,
   "source": [
    "from pymongo import MongoClient\r\n",
    "myClient = MongoClient ('mongodb://localhost:27017/')\r\n",
    "try:\r\n",
    "    myClient.admin.command('ismaster')\r\n",
    "    print('MongoDB connection: Succes')\r\n",
    "except ConnectionFailure as cf:\r\n",
    "    print('MongoDB connection: Succes', cf)\r\n",
    "    \r\n",
    "import requests\r\n",
    "from bs4 import BeautifulSoup\r\n",
    "from pymongo import MongoClient\r\n",
    "import pandas as pd\r\n",
    "import bson\r\n",
    "import json\r\n",
    "from bson.raw_bson import RawBSONDocument\r\n",
    "\r\n",
    "def find_2nd(string, substring):\r\n",
    "    return string.find(substring, string.find(substring) + 1)\r\n",
    "def find_1st(string, substring):\r\n",
    "    return string.find(substring, string.find(substring))\r\n",
    " \r\n",
    "response = requests.get('https://olympics.com/tokyo-2020/es/')\r\n",
    "soup = BeautifulSoup(response.content, \"lxml\")\r\n",
    "\r\n",
    "Titles=[]\r\n"
   ],
   "outputs": [
    {
     "output_type": "stream",
     "name": "stdout",
     "text": [
      "MongoDB connection: Succes\n"
     ]
    }
   ],
   "metadata": {}
  },
  {
   "cell_type": "code",
   "execution_count": 2,
   "source": [
    "post_titles= soup.find_all(\"span\", class_=\"tk-card__titlelink\")\r\n",
    "\r\n",
    "#for para limpiar\r\n",
    "for element in post_titles:\r\n",
    "    #print(element)\r\n",
    "    element=str(element)\r\n",
    "    limpio=str(element[find_1st(element, '>')+1:find_2nd(element,'<')])\r\n",
    "    #print (limpio)\r\n",
    "    Titles.append(limpio.strip())"
   ],
   "outputs": [],
   "metadata": {}
  },
  {
   "cell_type": "code",
   "execution_count": 3,
   "source": [
    "print(Titles)"
   ],
   "outputs": [
    {
     "output_type": "stream",
     "name": "stdout",
     "text": [
      "['Lo que aprendimos: resumen de la hípica en los Juegos Olímpicos de Tokio 2020', 'Lo que aprendimos: los mejores momentos de karate en los Juegos Olímpicos de Tokio 2020', 'Lo que aprendimos: resumen del pentatlón moderno en los Juegos Olímpicos de Tokio 2020', 'Lo que aprendimos: resumen del piragüismo eslalon en los Juegos Olímpicos de Tokio 2020', 'Lo que aprendimos: resumen del piragüismo en esprint en los Juegos Olímpicos de Tokio 2020', '各会場で任務にあたった陸上自衛隊', 'ONE -Nuestro nuevo episodio- MAZEKOZE Island Tour', '児童が育てたアサガオでアスリートをおもてなし「フラワーレーンプロジェクト」', 'Ceremonia de Clausura: Juegos Olímpicos de Tokio 2020']\n"
     ]
    }
   ],
   "metadata": {}
  },
  {
   "cell_type": "code",
   "execution_count": 4,
   "source": [
    "archivo = pd.DataFrame(Titles, index=Titles)\r\n",
    "archivo.to_json('datos.json')\r\n",
    "\r\n",
    "db = myClient[\"JuegosO\"]\r\n",
    "Collection= db[\"noticias\"]\r\n",
    "\r\n",
    "with open('datos.json') as file:\r\n",
    "    file_data = json.load(file)\r\n",
    "\r\n",
    "    \r\n",
    "if isinstance (file_data, list):\r\n",
    "    Collection.insert_many(file_data)\r\n",
    "else:\r\n",
    "    Collection.insert_one(file_data)"
   ],
   "outputs": [],
   "metadata": {}
  }
 ],
 "metadata": {
  "orig_nbformat": 4,
  "language_info": {
   "name": "python",
   "version": "3.9.5",
   "mimetype": "text/x-python",
   "codemirror_mode": {
    "name": "ipython",
    "version": 3
   },
   "pygments_lexer": "ipython3",
   "nbconvert_exporter": "python",
   "file_extension": ".py"
  },
  "kernelspec": {
   "name": "python3",
   "display_name": "Python 3.9.5 64-bit"
  },
  "interpreter": {
   "hash": "303635a4aef20df8f32cc84c7f74e3e48fce1ac7e37b6206e5ed4778cdc74d3b"
  }
 },
 "nbformat": 4,
 "nbformat_minor": 2
}